{
 "cells": [
  {
   "cell_type": "code",
   "execution_count": 1,
   "id": "d6d3ca95",
   "metadata": {},
   "outputs": [],
   "source": [
    "import geopandas\n",
    "import titanlib"
   ]
  },
  {
   "cell_type": "code",
   "execution_count": 2,
   "id": "698564a4",
   "metadata": {},
   "outputs": [
    {
     "data": {
      "text/plain": [
       "'0.3.1'"
      ]
     },
     "execution_count": 2,
     "metadata": {},
     "output_type": "execute_result"
    }
   ],
   "source": [
    "titanlib.version()"
   ]
  },
  {
   "cell_type": "code",
   "execution_count": null,
   "id": "c30cebd6",
   "metadata": {},
   "outputs": [],
   "source": [
    "conda install -c conda-forge geopandas"
   ]
  },
  {
   "cell_type": "code",
   "execution_count": null,
   "id": "ca1dfc51",
   "metadata": {},
   "outputs": [],
   "source": [
    "conda install geopandas"
   ]
  },
  {
   "cell_type": "code",
   "execution_count": null,
   "id": "017f8ee6",
   "metadata": {},
   "outputs": [],
   "source": [
    "conda create -n geo_env\n",
    "conda activate geo_env\n",
    "conda config --env --add channels conda-forge\n",
    "conda config --env --set channel_priority strict\n",
    "conda install python=3 geopandas"
   ]
  },
  {
   "cell_type": "code",
   "execution_count": null,
   "id": "e3479ba7",
   "metadata": {},
   "outputs": [],
   "source": []
  }
 ],
 "metadata": {
  "kernelspec": {
   "display_name": "Python 3",
   "language": "python",
   "name": "python3"
  },
  "language_info": {
   "codemirror_mode": {
    "name": "ipython",
    "version": 3
   },
   "file_extension": ".py",
   "mimetype": "text/x-python",
   "name": "python",
   "nbconvert_exporter": "python",
   "pygments_lexer": "ipython3",
   "version": "3.8.2"
  }
 },
 "nbformat": 4,
 "nbformat_minor": 5
}
