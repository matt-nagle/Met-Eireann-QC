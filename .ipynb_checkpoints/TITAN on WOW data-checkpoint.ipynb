{
 "cells": [
  {
   "cell_type": "markdown",
   "id": "e67c9ed3",
   "metadata": {},
   "source": [
    "# Import Packages, Functions and Data"
   ]
  },
  {
   "cell_type": "code",
   "execution_count": 1,
   "id": "7c238601",
   "metadata": {},
   "outputs": [],
   "source": [
    "import titanlib\n",
    "import geopandas\n",
    "import pandas as pd\n",
    "import netCDF4\n",
    "import numpy as np\n",
    "\n",
    "from mpl_toolkits.axes_grid1 import make_axes_locatable\n",
    "import datetime\n",
    "import time"
   ]
  },
  {
   "cell_type": "code",
   "execution_count": 2,
   "id": "13bc355f",
   "metadata": {},
   "outputs": [],
   "source": [
    "import titanlibcustom"
   ]
  },
  {
   "cell_type": "code",
   "execution_count": 3,
   "id": "3975c468",
   "metadata": {},
   "outputs": [],
   "source": [
    "# Import Formatted Data and functions from other Python script\n",
    "from Data_Importation_and_Function_Definition import ROI_counties, NI_counties, rain_wow_comp, temp_wow_comp, rain_official_comp, temp_official_comp, isolate_data_of_interest, plot_wow_data"
   ]
  },
  {
   "cell_type": "code",
   "execution_count": 4,
   "id": "7bc7230a",
   "metadata": {},
   "outputs": [],
   "source": [
    "base_path = r\"/home/matt/Documents/Met_Eireann/Data/\"\n",
    "\n",
    "path_to_elevation_data = base_path + r\"Maps/section_with_edge_to_grib_final02.grib1.nc\"\n",
    "\n",
    "raw_elevations_30m = netCDF4.Dataset(path_to_elevation_data)"
   ]
  },
  {
   "cell_type": "code",
   "execution_count": 6,
   "id": "07d36e3f",
   "metadata": {},
   "outputs": [],
   "source": [
    "time = raw_elevations_30m['time'][:]\n",
    "height = raw_elevations_30m['height'][:]\n",
    "long = raw_elevations_30m['longitude'][:]\n",
    "lat = raw_elevations_30m['latitude'][:]\n",
    "alt = raw_elevations_30m['altitude'][:]"
   ]
  },
  {
   "cell_type": "code",
   "execution_count": 7,
   "id": "2638273e",
   "metadata": {},
   "outputs": [],
   "source": [
    "lat_array = np.asarray(lat)\n",
    "long_array = np.asarray(long)"
   ]
  },
  {
   "cell_type": "code",
   "execution_count": 8,
   "id": "8039bc2e",
   "metadata": {},
   "outputs": [],
   "source": [
    "# Attempt to find every grid point -- NOTE this kills the kernal every time\n",
    "#test = np.array(np.meshgrid(lat_array, long_array)).T.reshape(-1,2)"
   ]
  },
  {
   "cell_type": "code",
   "execution_count": 21,
   "id": "f056bcd8",
   "metadata": {},
   "outputs": [],
   "source": [
    "def find_nearest_1D(array, value):\n",
    "    array = np.asarray(array)\n",
    "    idx = (np.abs(array - value)).argmin()\n",
    "    print(\"Nearest Value:\",array[idx])\n",
    "    return idx"
   ]
  },
  {
   "cell_type": "code",
   "execution_count": 26,
   "id": "1918a8a0",
   "metadata": {},
   "outputs": [
    {
     "name": "stdout",
     "output_type": "stream",
     "text": [
      "Nearest Value: 53.02157773512476\n",
      "Nearest Value: -6.394165299799526\n"
     ]
    }
   ],
   "source": [
    "nearest_lat_index = find_nearest_1D(lat_array, 53.02139221293762)\n",
    "nearest_long_index = find_nearest_1D(long_array, -6.39404296875)"
   ]
  },
  {
   "cell_type": "code",
   "execution_count": 28,
   "id": "d0d17350",
   "metadata": {},
   "outputs": [
    {
     "data": {
      "text/plain": [
       "630.0"
      ]
     },
     "execution_count": 28,
     "metadata": {},
     "output_type": "execute_result"
    }
   ],
   "source": [
    "alt[0, 0, nearest_lat_index, nearest_long_index]"
   ]
  },
  {
   "cell_type": "markdown",
   "id": "f2fca01a",
   "metadata": {},
   "source": [
    "# Obtain Test Data"
   ]
  },
  {
   "cell_type": "code",
   "execution_count": null,
   "id": "7f296ddf",
   "metadata": {},
   "outputs": [],
   "source": [
    "gdf_temp_wow, gdf_temp_official, gdf_temp_combined = isolate_data_of_interest(day_of_interest=\"15\", \n",
    "                                                                              month_of_interest=\"05\",\n",
    "                                                                              year_of_interest=\"2021\", \n",
    "                                                                              time_of_interest=\"10\",\n",
    "                                                                              type_of_plot=\"Air Temperature\")"
   ]
  },
  {
   "cell_type": "code",
   "execution_count": null,
   "id": "99e8bcc3",
   "metadata": {},
   "outputs": [],
   "source": [
    "# plot_wow_data(gdf_of_interest = gdf_temp_combined, type_of_plot = \"Air Temperature\", \n",
    "#               buffer_val = 0, flags = None)"
   ]
  },
  {
   "cell_type": "code",
   "execution_count": null,
   "id": "7697ea21",
   "metadata": {},
   "outputs": [],
   "source": [
    "gdf_rain_wow, gdf_rain_official, gdf_rain_combined = isolate_data_of_interest(day_of_interest=\"15\", \n",
    "                                                                              month_of_interest=\"05\", \n",
    "                                                                              year_of_interest=\"2021\", \n",
    "                                                                              time_of_interest=\"10\", \n",
    "                                                                              type_of_plot=\"Rainfall Accumulation\")"
   ]
  },
  {
   "cell_type": "code",
   "execution_count": null,
   "id": "ae269063",
   "metadata": {},
   "outputs": [],
   "source": [
    "# plot_wow_data(gdf_of_interest = gdf_rain_combined, type_of_plot = \"Rainfall Accumulation\", \n",
    "#               buffer_val = 0, flags = None)"
   ]
  },
  {
   "cell_type": "markdown",
   "id": "73954474",
   "metadata": {},
   "source": [
    "# Isolation Check"
   ]
  },
  {
   "cell_type": "code",
   "execution_count": null,
   "id": "b9621a28",
   "metadata": {},
   "outputs": [],
   "source": [
    "long_np = np.array(gdf_temp_combined[\"Longitude\"])\n",
    "lat_np = np.array(gdf_temp_combined[\"Latitude\"])\n",
    "\n",
    "points = titanlib.Points(lat_np, long_np)"
   ]
  },
  {
   "cell_type": "code",
   "execution_count": null,
   "id": "ecf2a427",
   "metadata": {},
   "outputs": [],
   "source": [
    "radius = 15000 # Radius around each station to check\n",
    "num_min = 3 # Minimum number of \n",
    "\n",
    "radius2 = 50000\n",
    "num_min2 = 1\n",
    "\n",
    "flags = titanlib.isolation_check(points, num_min, radius) # more strict requirements\n",
    "flags2 = titanlib.isolation_check(points, num_min2, radius2) # very lenient requirements\n",
    "\n",
    "print(flags)\n",
    "print(\"\\n\")\n",
    "print(flags2)"
   ]
  },
  {
   "cell_type": "code",
   "execution_count": null,
   "id": "47b9ff09",
   "metadata": {},
   "outputs": [],
   "source": [
    "custom_points = titanlibcustom.Points(lat_np, long_np)\n",
    "\n",
    "custom_flags = titanlibcustom.isolation_check(custom_points, num_min, radius)\n",
    "custom_flags2 = titanlibcustom.isolation_check(custom_points, num_min2, radius2)\n",
    "\n",
    "print(custom_flags) \n",
    "print(\"\\n\")\n",
    "print(custom_flags2) "
   ]
  },
  {
   "cell_type": "code",
   "execution_count": null,
   "id": "9dc41c1f",
   "metadata": {},
   "outputs": [],
   "source": [
    "# plot_wow_data(gdf_of_interest = gdf_temp_combined, type_of_plot = \"Air Temperature\", \n",
    "#               buffer_val = 50000, flags = flags2)"
   ]
  },
  {
   "cell_type": "markdown",
   "id": "d4363519",
   "metadata": {},
   "source": [
    "# Range Check"
   ]
  },
  {
   "cell_type": "markdown",
   "id": "fc6db0a2",
   "metadata": {},
   "source": [
    "## range_check"
   ]
  },
  {
   "cell_type": "code",
   "execution_count": null,
   "id": "561688ab",
   "metadata": {},
   "outputs": [],
   "source": [
    "np_values = np.array(gdf_temp_combined[\"Air Temperature\"]) # Values you want to check Rainfall/Temp\n",
    "\n",
    "# We have the choice between defining a global min and max\n",
    "# Or defining individual min and max values for each station\n",
    "# (potential use case: Checking measurement is within the ranges of the stations sensor)\n",
    "\n",
    "global_min = np.array([10.0]) \n",
    "global_max = np.array([15.0])\n",
    "\n",
    "rng = np.random.default_rng(42)\n",
    "random_min = rng.integers(low = 0, high = 15, size=len(np_values))\n",
    "random_max = random_min + 10"
   ]
  },
  {
   "cell_type": "code",
   "execution_count": null,
   "id": "1ef4fc40",
   "metadata": {},
   "outputs": [],
   "source": [
    "flags = titanlib.range_check(np_values, global_min, global_max)\n",
    "flags"
   ]
  },
  {
   "cell_type": "code",
   "execution_count": null,
   "id": "6614954b",
   "metadata": {},
   "outputs": [],
   "source": [
    "# plot_wow_data(gdf_of_interest = gdf_temp_combined, type_of_plot = \"Air Temperature\", \n",
    "#               buffer_val = 0, flags = flags)"
   ]
  },
  {
   "cell_type": "code",
   "execution_count": null,
   "id": "22a35336",
   "metadata": {
    "scrolled": true
   },
   "outputs": [],
   "source": [
    "random_flags = titanlib.range_check(np_values, random_min, random_max)\n",
    "random_flags"
   ]
  },
  {
   "cell_type": "code",
   "execution_count": null,
   "id": "de7f177e",
   "metadata": {},
   "outputs": [],
   "source": [
    "# plot_wow_data(gdf_of_interest = gdf_temp_combined, type_of_plot = \"Air Temperature\", \n",
    "#               buffer_val = 0, flags = random_flags)"
   ]
  },
  {
   "cell_type": "markdown",
   "id": "bea17aff",
   "metadata": {},
   "source": [
    "## range_check_climatology"
   ]
  },
  {
   "cell_type": "code",
   "execution_count": null,
   "id": "fbead3b4",
   "metadata": {},
   "outputs": [],
   "source": [
    "long_np = np.array(gdf_temp_combined[\"Longitude\"])\n",
    "lat_np = np.array(gdf_temp_combined[\"Latitude\"])\n",
    "\n",
    "points = titanlib.Points(lat_np, long_np) # Location of each station observation\n",
    "\n",
    "np_values = np.array(gdf_temp_combined[\"Air Temperature\"]) # Values you want to check Rainfall/Temp\n",
    "\n",
    "\n",
    "dt = datetime.datetime(year = 2021, month = 5, day = 15, hour = 10)\n",
    "date_time_of_int = int(time.mktime(dt.timetuple())) # date and time of interest in UNIX integer format\n",
    "\n",
    "\n",
    "# We have the choice between defining a global neg and pos\n",
    "# Or defining individual min and max values for each station\n",
    "\n",
    "pos_above_mean = np.array([2.5]) # Value above the mean climatological value to accept\n",
    "neg_below_mean = np.array([-2.5]) # Value above the mean climatological value to accept"
   ]
  },
  {
   "cell_type": "code",
   "execution_count": null,
   "id": "e3c3a8eb",
   "metadata": {},
   "outputs": [],
   "source": [
    "flags = titanlib.range_check_climatology(points, np_values, date_time_of_int, pos_above_mean, neg_below_mean)\n",
    "flags"
   ]
  },
  {
   "cell_type": "code",
   "execution_count": null,
   "id": "63e00198",
   "metadata": {},
   "outputs": [],
   "source": [
    "# Note the code for titanlibcustom has been adjusted to return the mean temperature rather than the flag\n",
    "custom_points = titanlibcustom.Points(lat_np, long_np)\n",
    "\n",
    "\n",
    "dt = datetime.datetime(year = 2021, month = 5, day = 15, hour = 10)\n",
    "date_time_of_int = int(time.mktime(dt.timetuple())) # date and time of interest in UNIX integer format\n",
    "\n",
    "custom_flags = titanlibcustom.range_check_climatology(custom_points, np_values,  date_time_of_int, \n",
    "                                                      pos_above_mean, neg_below_mean)\n",
    "print(custom_flags)\n",
    "\n",
    "\n",
    "dt = datetime.datetime(year = 2021, month = 12, day = 15, hour = 10) # What if it was Winter instead?\n",
    "date_time_of_int = int(time.mktime(dt.timetuple())) # date and time of interest in UNIX integer format\n",
    "\n",
    "custom_flags_winter = titanlibcustom.range_check_climatology(custom_points, np_values,  date_time_of_int,\n",
    "                                                             pos_above_mean, neg_below_mean)\n",
    "print(custom_flags_winter)"
   ]
  },
  {
   "cell_type": "code",
   "execution_count": null,
   "id": "1df23ce2",
   "metadata": {},
   "outputs": [],
   "source": [
    "plot_wow_data(gdf_of_interest = gdf_temp_combined, type_of_plot = \"Air Temperature\", \n",
    "              buffer_val = 0, flags = flags)"
   ]
  },
  {
   "cell_type": "code",
   "execution_count": null,
   "id": "8bc293b5",
   "metadata": {},
   "outputs": [],
   "source": [
    "test_gdf = gdf_temp_combined.copy()\n",
    "\n",
    "test_gdf[\"Mean Temp\"] = custom_flags\n",
    "test_gdf[\"Winter Mean Temp\"] = custom_flags_winter"
   ]
  },
  {
   "cell_type": "code",
   "execution_count": null,
   "id": "0d756ccd",
   "metadata": {},
   "outputs": [],
   "source": [
    "ax = ROI_counties[\"geometry\"].plot(figsize=(5,8), edgecolors=\"grey\", color=\"w\")\n",
    "divider = make_axes_locatable(ax) # for vertically aligning the plot and the legend\n",
    "NI_counties[\"geometry\"].plot(ax=ax, edgecolors=\"grey\", color=\"w\")  \n",
    "\n",
    "cax = divider.append_axes(\"right\", size=\"5%\", pad=0.1)\n",
    "\n",
    "\n",
    "\n",
    "##### Plot Markers #####\n",
    "test_gdf.plot(\"Mean Temp\", ax=ax, legend = True, cax=cax, markersize=400, alpha = 0.5)\n",
    "\n",
    "# Annotate each marker with the Rainfall Accumulation to the nearest whole number\n",
    "for x, y, label in zip(test_gdf.geometry.x, test_gdf.geometry.y, test_gdf[\"Mean Temp\"]):\n",
    "    ax.annotate(round(label), xy=(x, y), verticalalignment='center', horizontalalignment='center', \n",
    "                weight = \"bold\", fontsize = \"large\")"
   ]
  },
  {
   "cell_type": "code",
   "execution_count": null,
   "id": "82d8dee5",
   "metadata": {
    "scrolled": false
   },
   "outputs": [],
   "source": [
    "ax = ROI_counties[\"geometry\"].plot(figsize=(5,8), edgecolors=\"grey\", color=\"w\")\n",
    "divider = make_axes_locatable(ax) # for vertically aligning the plot and the legend\n",
    "NI_counties[\"geometry\"].plot(ax=ax, edgecolors=\"grey\", color=\"w\")  \n",
    "\n",
    "cax = divider.append_axes(\"right\", size=\"5%\", pad=0.1)\n",
    "\n",
    "\n",
    "\n",
    "##### Plot Markers #####\n",
    "test_gdf.plot(\"Winter Mean Temp\", ax=ax, legend = True, cax=cax, markersize=400, alpha = 0.5)\n",
    "\n",
    "# Annotate each marker with the Rainfall Accumulation to the nearest whole number\n",
    "for x, y, label in zip(test_gdf.geometry.x, test_gdf.geometry.y, test_gdf[\"Winter Mean Temp\"]):\n",
    "    ax.annotate(round(label), xy=(x, y), verticalalignment='center', horizontalalignment='center', \n",
    "                weight = \"bold\", fontsize = \"large\")"
   ]
  },
  {
   "cell_type": "markdown",
   "id": "426f0c08",
   "metadata": {},
   "source": [
    "# Buddy Checks"
   ]
  },
  {
   "cell_type": "markdown",
   "id": "2b06f2bb",
   "metadata": {},
   "source": [
    "## Buddy Event Check"
   ]
  },
  {
   "cell_type": "code",
   "execution_count": null,
   "id": "1c7a3fe8",
   "metadata": {},
   "outputs": [],
   "source": [
    "plot_wow_data(gdf_of_interest = gdf_rain_combined, type_of_plot = \"Rainfall Accumulation\", \n",
    "              buffer_val = 20000, flags = None)"
   ]
  },
  {
   "cell_type": "code",
   "execution_count": null,
   "id": "5f152c21",
   "metadata": {},
   "outputs": [],
   "source": [
    "long_np = np.array(gdf_rain_combined[\"Longitude\"])\n",
    "lat_np = np.array(gdf_rain_combined[\"Latitude\"])\n",
    "\n",
    "points = titanlib.Points(lat_np, long_np) # Location of each station observation\n",
    "\n",
    "np_values = np.array(gdf_rain_combined[\"Rainfall Accumulation\"]) # Values you want to check Rainfall/Temp\n",
    "\n",
    "\n",
    "\n",
    "# NOTE: the neighbourhood size I am using is almost certainly not suitable for a check like this\n",
    "# as legitimate differences should probably be allowed to occur 10+ km away however this is just\n",
    "# a proof of concept to get a feeling for how the check works\n",
    "\n",
    "radius = np.full(points.size(), 20000) # Radius of neighbourhood of points to consider\n",
    "num_min = np.full(points.size(), 3) # Minimum number of neighbours for a valid test (else throw an error)\n",
    "\n",
    "\n",
    "event_threshold = 0.2 # Threshold above which the event is said to occur (i.e. rain happened)\n",
    "threshold = 0.25 # Fraction of other observations in the neighbourhood that must agree with the obs being tested\n",
    "max_elev_diff = 0 # Difference between elevations within the neighbourhood must not exceed this value\n",
    "elev_gradient = 0 # Value for linearly rescaling values for different elevations (e.g. for temp -0.0065 deg C per m)\n",
    "num_iterations = 5 # Number of iterations\n",
    "\n",
    "\n",
    "flags = titanlib.buddy_event_check(points, np_values, radius, num_min, event_threshold, \n",
    "                                   threshold, max_elev_diff, elev_gradient, num_iterations)\n",
    "\n",
    "flags"
   ]
  },
  {
   "cell_type": "code",
   "execution_count": null,
   "id": "0b2b9847",
   "metadata": {},
   "outputs": [],
   "source": [
    "plot_wow_data(gdf_of_interest = gdf_rain_combined, type_of_plot = \"Rainfall Accumulation\", \n",
    "              buffer_val = 20000, flags = flags)"
   ]
  },
  {
   "cell_type": "markdown",
   "id": "d33bed93",
   "metadata": {},
   "source": [
    "## Buddy Check"
   ]
  },
  {
   "cell_type": "code",
   "execution_count": null,
   "id": "e79c782b",
   "metadata": {},
   "outputs": [],
   "source": [
    "plot_wow_data(gdf_of_interest = gdf_temp_combined, type_of_plot = \"Air Temperature\", \n",
    "              buffer_val = 20000, flags = None)"
   ]
  },
  {
   "cell_type": "code",
   "execution_count": null,
   "id": "5d3cc927",
   "metadata": {},
   "outputs": [],
   "source": [
    "long_np = np.array(gdf_temp_combined[\"Longitude\"])\n",
    "lat_np = np.array(gdf_temp_combined[\"Latitude\"])\n",
    "\n",
    "points = titanlib.Points(lat_np, long_np) # Location of each station observation\n",
    "\n",
    "np_values = np.array(gdf_temp_combined[\"Air Temperature\"]) # Values you want to check Rainfall/Temp\n",
    "\n",
    "\n",
    "\n",
    "# NOTE: the neighbourhood size I am using is almost certainly not suitable for a check like this\n",
    "# as legitimate differences should probably be allowed to occur 10+ km away however this is just\n",
    "# a proof of concept to get a feeling for how the check works\n",
    "\n",
    "radius = np.full(points.size(), 40000) # Radius of neighbourhood of points to consider\n",
    "num_min = np.full(points.size(), 5) # Minimum number of neighbours for a valid test (else throw an error)\n",
    "\n",
    "\n",
    "# The buddy check flags an observations if |observation - avg of neighbours| normalized by the \n",
    "# standard deviation in the circle is greater than a predefined threshold\n",
    "\n",
    "threshold = 3 # standard deviation threshold for flagging suspicious observations\n",
    "min_std = 1 # If the sd of observations in the neighbourhood is less than this value use this instead as the check\n",
    "max_elev_diff = 0 # Difference between elevations within the neighbourhood must not exceed this value\n",
    "elev_gradient = -0.0065 # Value for linearly rescaling values for different elevations (e.g. for temp -0.0065 deg C per m)\n",
    "num_iterations = 5 # Number of iterations\n",
    "\n",
    "flags = titanlib.buddy_check(points, np_values, radius, num_min, threshold, \n",
    "                             max_elev_diff, elev_gradient, min_std, num_iterations)\n",
    "flags"
   ]
  },
  {
   "cell_type": "code",
   "execution_count": null,
   "id": "66309a59",
   "metadata": {},
   "outputs": [],
   "source": [
    "plot_wow_data(gdf_of_interest = gdf_temp_combined, type_of_plot = \"Air Temperature\", \n",
    "              buffer_val = 0, flags = flags)"
   ]
  },
  {
   "cell_type": "code",
   "execution_count": null,
   "id": "c653296c",
   "metadata": {},
   "outputs": [],
   "source": [
    "# Create a data set with some outliers that will hopefully be flagged even with a high threshold\n",
    "\n",
    "gdf_temp_combined_outliers = gdf_temp_combined.copy()\n",
    "\n",
    "gdf_temp_combined_outliers.loc[gdf_temp_combined_outliers.index[[0, 1, 2, 3, 4]], (\"Air Temperature\")] = 30"
   ]
  },
  {
   "cell_type": "code",
   "execution_count": null,
   "id": "44a58f3c",
   "metadata": {},
   "outputs": [],
   "source": [
    "buffer_val_list = np.zeros(len(gdf_temp_combined_outliers), dtype = int)\n",
    "outliers = [0, 1, 2, 3, 4]\n",
    "buffer_val_list[outliers] = 40000\n",
    "buffer_val_list = list(buffer_val_list)\n",
    "\n",
    "\n",
    "plot_wow_data(gdf_of_interest = gdf_temp_combined_outliers, type_of_plot = \"Air Temperature\", \n",
    "              buffer_val = buffer_val_list, flags = None)"
   ]
  },
  {
   "cell_type": "code",
   "execution_count": null,
   "id": "07493589",
   "metadata": {},
   "outputs": [],
   "source": [
    "long_np = np.array(gdf_temp_combined_outliers[\"Longitude\"])\n",
    "lat_np = np.array(gdf_temp_combined_outliers[\"Latitude\"])\n",
    "\n",
    "points = titanlib.Points(lat_np, long_np) # Location of each station observation\n",
    "\n",
    "np_values = np.array(gdf_temp_combined_outliers[\"Air Temperature\"]) # Values you want to check Rainfall/Temp\n",
    "\n",
    "\n",
    "\n",
    "# NOTE: the neighbourhood size I am using is almost certainly not suitable for a check like this\n",
    "# as legitimate differences should probably be allowed to occur 10+ km away however this is just\n",
    "# a proof of concept to get a feeling for how the check works\n",
    "\n",
    "radius = np.full(points.size(), 40000) # Radius of neighbourhood of points to consider\n",
    "num_min = np.full(points.size(), 5) # Minimum number of neighbours for a valid test (else throw an error)\n",
    "\n",
    "\n",
    "# The buddy check flags an observations if |observation - avg of neighbours| normalized by the \n",
    "# standard deviation in the circle is greater than a predefined threshold\n",
    "\n",
    "threshold = 5 # standard deviation threshold for flagging suspicious observations\n",
    "min_std = 1 # If the sd of observations in the neighbourhood is less than this value use this instead as the check\n",
    "max_elev_diff = 0 # Difference between elevations within the neighbourhood must not exceed this value\n",
    "elev_gradient = -0.0065 # Value for linearly rescaling values for different elevations (e.g. for temp -0.0065 deg C per m)\n",
    "num_iterations = 5 # Number of iterations\n",
    "\n",
    "\n",
    "\n",
    "flags = titanlib.buddy_check(points, np_values, radius, num_min, threshold, \n",
    "                             max_elev_diff, elev_gradient, min_std, num_iterations)\n",
    "flags"
   ]
  },
  {
   "cell_type": "code",
   "execution_count": null,
   "id": "c440ab2d",
   "metadata": {},
   "outputs": [],
   "source": [
    "plot_wow_data(gdf_of_interest = gdf_temp_combined_outliers, type_of_plot = \"Air Temperature\", \n",
    "              buffer_val = buffer_val_list, flags = flags)"
   ]
  },
  {
   "cell_type": "code",
   "execution_count": null,
   "id": "5fcd226e",
   "metadata": {},
   "outputs": [],
   "source": []
  }
 ],
 "metadata": {
  "kernelspec": {
   "display_name": "Python 3",
   "language": "python",
   "name": "python3"
  },
  "language_info": {
   "codemirror_mode": {
    "name": "ipython",
    "version": 3
   },
   "file_extension": ".py",
   "mimetype": "text/x-python",
   "name": "python",
   "nbconvert_exporter": "python",
   "pygments_lexer": "ipython3",
   "version": "3.8.2"
  }
 },
 "nbformat": 4,
 "nbformat_minor": 5
}
